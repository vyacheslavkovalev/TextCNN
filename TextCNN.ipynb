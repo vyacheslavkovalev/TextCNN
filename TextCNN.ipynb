{
 "cells": [
  {
   "cell_type": "markdown",
   "metadata": {},
   "source": [
    "# TextCNN\n",
    "## Классификация текстов через сверточную нейронную сеть с использованием векторных представлений слов."
   ]
  },
  {
   "cell_type": "code",
   "execution_count": 1,
   "metadata": {
    "cellId": "84zxqk85mtjilg5zvvnot"
   },
   "outputs": [
    {
     "name": "stdout",
     "output_type": "stream",
     "text": [
      "Defaulting to user installation because normal site-packages is not writeable\n",
      "Requirement already satisfied: gensim in /home/jupyter/.local/lib/python3.9/site-packages (4.2.0)\n",
      "Requirement already satisfied: smart-open>=1.8.1 in /home/jupyter/.local/lib/python3.9/site-packages (from gensim) (6.0.0)\n",
      "Requirement already satisfied: numpy>=1.17.0 in /kernel/fallback/lib/python3.9/site-packages (from gensim) (1.19.4)\n",
      "Requirement already satisfied: scipy>=0.18.1 in /usr/local/lib/python3.9/dist-packages (from gensim) (1.8.1)\n"
     ]
    }
   ],
   "source": [
    "# Предустановка необходимых зависимостей\n",
    "%pip install -Ur requirements.txt"
   ]
  },
  {
   "cell_type": "code",
   "execution_count": 1,
   "metadata": {
    "cellId": "sy01230za7aduvs9p1bsw7"
   },
   "outputs": [],
   "source": [
    "import torch\n",
    "import torch.nn as nn\n",
    "import numpy as np"
   ]
  },
  {
   "cell_type": "markdown",
   "metadata": {},
   "source": [
    "### Fasttext\n",
    "Для решения задачи будем использовать предобученные легковесные векторные представления _glove_ размера 25."
   ]
  },
  {
   "cell_type": "code",
   "execution_count": 2,
   "metadata": {
    "cellId": "lofph6m3y8d5wxdcc335xa"
   },
   "outputs": [],
   "source": [
    "import gensim.downloader as api\n",
    "\n",
    "\n",
    "fasttext = api.load('glove-twitter-25')"
   ]
  },
  {
   "cell_type": "code",
   "execution_count": 7,
   "metadata": {
    "cellId": "3egsi0ik1sazalzgcgrc8"
   },
   "outputs": [
    {
     "data": {
      "text/plain": [
       "[('bbc', 0.9295514822006226),\n",
       " ('uk', 0.9242048859596252),\n",
       " ('yahoo', 0.8797301054000854),\n",
       " ('press', 0.875943124294281),\n",
       " ('report', 0.8702858090400696),\n",
       " ('group', 0.859866738319397),\n",
       " ('japan', 0.8509190082550049),\n",
       " ('latest', 0.850569486618042),\n",
       " ('’s', 0.8463255167007446),\n",
       " ('abc', 0.8438911437988281)]"
      ]
     },
     "execution_count": 7,
     "metadata": {},
     "output_type": "execute_result"
    }
   ],
   "source": [
    "fasttext.most_similar(positive=['news'])"
   ]
  },
  {
   "cell_type": "code",
   "execution_count": 8,
   "metadata": {
    "cellId": "km4rc7y4xlz10bbf9q1xl"
   },
   "outputs": [
    {
     "data": {
      "text/plain": [
       "[('video', 0.8424751162528992),\n",
       " ('tv', 0.8422137498855591),\n",
       " ('google', 0.8344797492027283),\n",
       " ('via', 0.8309010863304138),\n",
       " ('mp', 0.8272317051887512),\n",
       " ('fox', 0.814910888671875),\n",
       " ('facebook', 0.8100445866584778),\n",
       " ('youtube', 0.7995398640632629),\n",
       " ('cd', 0.7935119867324829),\n",
       " ('web', 0.7915233373641968)]"
      ]
     },
     "execution_count": 8,
     "metadata": {},
     "output_type": "execute_result"
    }
   ],
   "source": [
    "fasttext.most_similar(positive=['news', 'usa'], negative=['canada'])"
   ]
  },
  {
   "cell_type": "code",
   "execution_count": 5,
   "metadata": {
    "cellId": "z4ua30e569g7nu6o0p1ya7",
    "jupyter": {
     "outputs_hidden": false
    },
    "pycharm": {
     "name": "#%%\n"
    }
   },
   "outputs": [],
   "source": [
    "# Импортируем все необходимое для предобработки текстов и создадим \n",
    "\n",
    "import re\n",
    "import string\n",
    "from collections import Counter\n",
    "\n",
    "\n",
    "class Vocabulary:\n",
    "    def __init__(self, texts: list[str], min_freq: int = 10): # укажем в конструкторе минимальную частоту для слов в словаре, воизбежании использования редких слов\n",
    "        \n",
    "        # Соединим все тексты и уберем все лишнее, приведем к одному регистру и посчитаем кол-во вхождений слов.\n",
    "        text = ' '.join(texts)\n",
    "\n",
    "        text = re.sub(r\"http[s]?://(?:[a-zA-Z]|[0-9]|[$-_@.&+]|[!*\\(\\),]|(?:%[0-9a-fA-F][0-9a-fA-F]))+\", \" \", text)\n",
    "        text = re.sub(\"[^a-zA-Z]\", \" \", text)\n",
    "\n",
    "        while '  ' in text:\n",
    "            text = text.replace('  ', ' ')\n",
    "\n",
    "        words = text.strip().lower().split()\n",
    "\n",
    "        c = Counter(words)\n",
    "        \n",
    "        # Оставим только частовстречаемые слова\n",
    "\n",
    "        self.vocabulary = list(set([word for word in words if c[word] >= min_freq]))\n",
    "        self.vocabulary.append('<unk>') # Добавим уникальный токен для неизвестных слов\n",
    "        self._idx2word = {i: word for i, word in enumerate(self.vocabulary)} # Создадим словари соответствия для токенизации текстов из числа в слово\n",
    "        self._word2idx = {word: i for i, word in enumerate(self.vocabulary)} # И из слова в число\n",
    "\n",
    "    def get_vocabulary(self):\n",
    "        return self.vocabulary\n",
    "\n",
    "    def idx2word(self, idx: int):\n",
    "        if idx not in self._idx2word:\n",
    "            return '<unk>' # Возвращаем уникальный токен в случае если слово отсутствует в словаре\n",
    "\n",
    "        return self._idx2word[idx]\n",
    "\n",
    "    def word2idx(self, word: str):\n",
    "        word = word.lower()\n",
    "        if word not in self._word2idx:\n",
    "            return self._word2idx['<unk>'] # Возвращаем уникальный токен в случае если слово отсутствует в словаре\n",
    "\n",
    "        return self._word2idx[word]\n",
    "    \n",
    "    def encode(self, text):\n",
    "        # Кодирование предложения в последовательность токенов\n",
    "        result = []\n",
    "\n",
    "        for word in text.split():\n",
    "            result.append(self.word2idx(word))\n",
    "\n",
    "        return result\n",
    "\n",
    "    def build_vectors(self, fasttext):\n",
    "        # Создание матрицы векторов слов из словаря\n",
    "        vectors = []\n",
    "        \n",
    "        for word in self.vocabulary:\n",
    "            if fasttext.has_index_for(word):\n",
    "                vectors.append(fasttext[word])\n",
    "            else:\n",
    "                vectors.append(np.zeros(25))\n",
    "\n",
    "        return np.stack(vectors)"
   ]
  },
  {
   "cell_type": "markdown",
   "metadata": {},
   "source": [
    "###  Классификация тексов на примере отзывов на кинокартины с IMDB"
   ]
  },
  {
   "cell_type": "code",
   "execution_count": 6,
   "metadata": {
    "cellId": "qxuxyp11ewuhcfw4syk8o"
   },
   "outputs": [],
   "source": [
    "import pandas as pd\n",
    "\n",
    "\n",
    "df = pd.read_csv('IMDB Dataset.csv')"
   ]
  },
  {
   "cell_type": "code",
   "execution_count": 7,
   "metadata": {},
   "outputs": [],
   "source": [
    "text = df['review'][0]"
   ]
  },
  {
   "cell_type": "code",
   "execution_count": 8,
   "metadata": {
    "cellId": "66kwesvzh35rba17ejemz9"
   },
   "outputs": [
    {
     "data": {
      "text/html": [
       "<div>\n",
       "<style scoped>\n",
       "    .dataframe tbody tr th:only-of-type {\n",
       "        vertical-align: middle;\n",
       "    }\n",
       "\n",
       "    .dataframe tbody tr th {\n",
       "        vertical-align: top;\n",
       "    }\n",
       "\n",
       "    .dataframe thead th {\n",
       "        text-align: right;\n",
       "    }\n",
       "</style>\n",
       "<table border=\"1\" class=\"dataframe\">\n",
       "  <thead>\n",
       "    <tr style=\"text-align: right;\">\n",
       "      <th></th>\n",
       "      <th>review</th>\n",
       "      <th>sentiment</th>\n",
       "    </tr>\n",
       "  </thead>\n",
       "  <tbody>\n",
       "    <tr>\n",
       "      <th>0</th>\n",
       "      <td>One of the other reviewers has mentioned that ...</td>\n",
       "      <td>positive</td>\n",
       "    </tr>\n",
       "    <tr>\n",
       "      <th>1</th>\n",
       "      <td>A wonderful little production. &lt;br /&gt;&lt;br /&gt;The...</td>\n",
       "      <td>positive</td>\n",
       "    </tr>\n",
       "    <tr>\n",
       "      <th>2</th>\n",
       "      <td>I thought this was a wonderful way to spend ti...</td>\n",
       "      <td>positive</td>\n",
       "    </tr>\n",
       "    <tr>\n",
       "      <th>3</th>\n",
       "      <td>Basically there's a family where a little boy ...</td>\n",
       "      <td>negative</td>\n",
       "    </tr>\n",
       "    <tr>\n",
       "      <th>4</th>\n",
       "      <td>Petter Mattei's \"Love in the Time of Money\" is...</td>\n",
       "      <td>positive</td>\n",
       "    </tr>\n",
       "    <tr>\n",
       "      <th>...</th>\n",
       "      <td>...</td>\n",
       "      <td>...</td>\n",
       "    </tr>\n",
       "    <tr>\n",
       "      <th>49995</th>\n",
       "      <td>I thought this movie did a down right good job...</td>\n",
       "      <td>positive</td>\n",
       "    </tr>\n",
       "    <tr>\n",
       "      <th>49996</th>\n",
       "      <td>Bad plot, bad dialogue, bad acting, idiotic di...</td>\n",
       "      <td>negative</td>\n",
       "    </tr>\n",
       "    <tr>\n",
       "      <th>49997</th>\n",
       "      <td>I am a Catholic taught in parochial elementary...</td>\n",
       "      <td>negative</td>\n",
       "    </tr>\n",
       "    <tr>\n",
       "      <th>49998</th>\n",
       "      <td>I'm going to have to disagree with the previou...</td>\n",
       "      <td>negative</td>\n",
       "    </tr>\n",
       "    <tr>\n",
       "      <th>49999</th>\n",
       "      <td>No one expects the Star Trek movies to be high...</td>\n",
       "      <td>negative</td>\n",
       "    </tr>\n",
       "  </tbody>\n",
       "</table>\n",
       "<p>50000 rows × 2 columns</p>\n",
       "</div>"
      ],
      "text/plain": [
       "                                                  review sentiment\n",
       "0      One of the other reviewers has mentioned that ...  positive\n",
       "1      A wonderful little production. <br /><br />The...  positive\n",
       "2      I thought this was a wonderful way to spend ti...  positive\n",
       "3      Basically there's a family where a little boy ...  negative\n",
       "4      Petter Mattei's \"Love in the Time of Money\" is...  positive\n",
       "...                                                  ...       ...\n",
       "49995  I thought this movie did a down right good job...  positive\n",
       "49996  Bad plot, bad dialogue, bad acting, idiotic di...  negative\n",
       "49997  I am a Catholic taught in parochial elementary...  negative\n",
       "49998  I'm going to have to disagree with the previou...  negative\n",
       "49999  No one expects the Star Trek movies to be high...  negative\n",
       "\n",
       "[50000 rows x 2 columns]"
      ]
     },
     "execution_count": 8,
     "metadata": {},
     "output_type": "execute_result"
    }
   ],
   "source": [
    "df"
   ]
  },
  {
   "cell_type": "markdown",
   "metadata": {},
   "source": [
    "### Для сырых данных необходимо создать кастомный класс Dataset для работы с PyTorch"
   ]
  },
  {
   "cell_type": "code",
   "execution_count": 35,
   "metadata": {
    "cellId": "3198ksgkmth5ho0umw0y9m"
   },
   "outputs": [],
   "source": [
    "from torch.utils.data import Dataset\n",
    "\n",
    "\n",
    "class IMDB(Dataset):\n",
    "    def __init__(self, path):\n",
    "        self.df = pd.read_csv(path) # Считаем датафрейм по пути\n",
    "        \n",
    "        texts = self.df['review'].values # Выделим тексты\n",
    "\n",
    "        self.vocab = Vocabulary(texts, min_freq=5) # Используем ранее созданый класс для формирования словаря с минимальной частотой слов 5\n",
    "\n",
    "        self.label2idx = {'positive': 0, 'negative': 1} # Переведем категориальные признаки в числа 0 и 1\n",
    "\n",
    "    def __getitem__(self, idx):\n",
    "        text = self.df['review'].loc[idx]\n",
    "        label = self.label2idx[self.df['sentiment'].loc[idx]]\n",
    "\n",
    "        text = torch.LongTensor(self.vocab.encode(text)) # Используем метод класса словаря для токенизации текста\n",
    "        label = torch.FloatTensor([label]) # Обучать сеть будем на BCELoss соответственно пример таргет вещественным значением\n",
    "\n",
    "        return text, label\n",
    "\n",
    "    def __len__(self):\n",
    "        return len(self.df)"
   ]
  },
  {
   "cell_type": "code",
   "execution_count": 37,
   "metadata": {
    "cellId": "ppry16ckqkluq1j7nc0att"
   },
   "outputs": [],
   "source": [
    "dataset = IMDB('IMDB Dataset.csv')"
   ]
  },
  {
   "cell_type": "code",
   "execution_count": 36,
   "metadata": {
    "cellId": "ac78cy252j6f39qyef5k5"
   },
   "outputs": [
    {
     "data": {
      "text/plain": [
       "(tensor([30504., 10253.,  9172.,  1964., 17895., 10316., 21092., 18613., 26204.,\n",
       "          6893.,  8916., 39272., 30114., 38144., 39272., 27292., 39272.,  1394.,\n",
       "         23728., 39272., 26999., 25378.,   316.,  7996., 13440., 13822.,  7174.,\n",
       "         39272., 39272., 39272., 26049., 15277., 18613., 25709., 27419., 13821.,\n",
       "         30114., 18285., 24789.,  9943., 30023., 30298., 14246., 10253., 39272.,\n",
       "         26577., 30662., 26279., 20109., 13968.,  9172., 29793., 39272., 25979.,\n",
       "         39272., 25378.,   316., 27375., 22353., 30626., 35070.,  9172., 10353.,\n",
       "          7867.,  5593., 39272., 25378., 30626.,   106., 21910., 25080.,  7174.,\n",
       "          4019., 17060., 39272.,  7579.,  5593., 39272., 24789.,   316., 39272.,\n",
       "         26279.,  9172., 19337., 27676., 10253.,  9172., 39272., 39272., 39272.,\n",
       "           316., 31999., 30114., 26999., 18613.,   316.,  9172., 23241., 22053.,\n",
       "         17060.,  9172.,  6656.,  2333., 17349., 14291., 39272., 22821., 24384.,\n",
       "          5914.,  1226., 18142., 39272., 29959., 10063., 14629., 10253.,  9172.,\n",
       "         37533., 29295., 32040.,  9172., 14707., 30568., 11974.,  7210., 30023.,\n",
       "         23328., 39272.,  8133., 34496.,   316., 27375., 14896.,  1226.,  9172.,\n",
       "         39272., 15319.,  6550.,   316., 16939., 17060., 39272., 39272., 39272.,\n",
       "         39272., 39272., 39272., 30154., 30023., 39272., 39272., 31729., 39272.,\n",
       "         28289., 23156., 30023., 10227., 24853., 23728.,  6837.,  1517., 39272.,\n",
       "         39272., 39272., 19157., 14632.,  9172., 34190., 36435., 10253.,  9172.,\n",
       "         30626.,   316., 23066., 17060.,  9172., 27871., 18613., 22821., 28865.,\n",
       "         29295.,  1964., 10585., 39272., 39272., 22720.,   802., 28376.,  3072.,\n",
       "         35070., 26769., 39272., 22720., 39272., 22720., 39272., 39272., 15514.,\n",
       "         39272.,  9172., 26049., 38144., 23879., 31019., 17572., 25709., 27419.,\n",
       "         26999.,  8133., 21606., 22821., 18285., 39272., 23879., 39272., 14632.,\n",
       "         23879., 18285., 16007., 35070., 39272.,  6013., 26999., 23879., 14249.,\n",
       "         39272., 23879., 38789., 22353., 38358., 35070., 39272., 30023., 37847.,\n",
       "         15446., 17060.,  9172., 14896., 24525., 10253., 20941., 39272., 27375.,\n",
       "          8916., 39272.,  6013., 31049., 39272.,  3114., 39272., 27292., 32755.,\n",
       "         25009., 35070., 22353., 39272., 15878., 39272., 20256.,  1226., 28079.,\n",
       "         30023.,  7452., 12265.,  7174., 39272.,  6056., 39272., 25604.,  8117.,\n",
       "         15878.,  4092., 26306.,  4964., 37533.,  1776., 23066., 17060.,  7477.,\n",
       "         32924., 10253., 10503., 13225.,  5593., 37533., 39272.,  6893., 39272.,\n",
       "          2958., 31911., 16682., 31437.,  7174., 13440.,   316.,   723., 39272.,\n",
       "         22234.,  2958., 18797.,  7452., 26279.,  8759.,  7174.,  2374., 21469.,\n",
       "         39272.]),\n",
       " tensor([0.]))"
      ]
     },
     "execution_count": 36,
     "metadata": {},
     "output_type": "execute_result"
    }
   ],
   "source": [
    "dataset[0]"
   ]
  },
  {
   "cell_type": "markdown",
   "metadata": {},
   "source": [
    "### Определим тестовые и обучающую выборки"
   ]
  },
  {
   "cell_type": "code",
   "execution_count": 38,
   "metadata": {
    "cellId": "sj6w6ufy38fu889t26hg"
   },
   "outputs": [],
   "source": [
    "from torch.utils.data import random_split\n",
    "\n",
    "\n",
    "train_dataset, test_dataset = random_split(dataset, (int(len(dataset) * 0.9), len(dataset) - int(len(dataset) * 0.9)))"
   ]
  },
  {
   "cell_type": "markdown",
   "metadata": {},
   "source": [
    "### Формирование батчей объектов\n",
    "\n",
    "Так как тексты имеют переменную длинну и нет возможности стакать тензоры разной длинны, а подавать объекты по одному очень долго - воспользуемся _**pad_sequence**_ для допаживания текстов до длинны равной длине максимально текста в батче."
   ]
  },
  {
   "cell_type": "code",
   "execution_count": 39,
   "metadata": {
    "cellId": "ezwf88xd8g5hf1xnebk8u"
   },
   "outputs": [],
   "source": [
    "from torch.nn.utils.rnn import pad_sequence\n",
    "\n",
    "pad_idx = len(dataset.vocab.vocabulary)\n",
    "\n",
    "def collate_fn(batch):\n",
    "    texts = pad_sequence([b[0] for b in batch], padding_value=pad_idx, batch_first=True)\n",
    "    labels = torch.stack([b[1] for b in batch])\n",
    "    \n",
    "    return texts, labels"
   ]
  },
  {
   "cell_type": "markdown",
   "metadata": {},
   "source": [
    "### Создание даталоадеров"
   ]
  },
  {
   "cell_type": "code",
   "execution_count": 40,
   "metadata": {
    "cellId": "ys9mi6x8n8bl6uwhe3uke"
   },
   "outputs": [],
   "source": [
    "from torch.utils.data import DataLoader\n",
    "\n",
    "\n",
    "train_loader = DataLoader(train_dataset, batch_size=64, collate_fn=collate_fn, pin_memory=True)\n",
    "test_loader = DataLoader(test_dataset, batch_size=64, collate_fn=collate_fn, pin_memory=True)"
   ]
  },
  {
   "cell_type": "code",
   "execution_count": 41,
   "metadata": {
    "cellId": "holdny8p4d6j35v5h0em9"
   },
   "outputs": [],
   "source": [
    "b = next(iter(train_loader))"
   ]
  },
  {
   "cell_type": "code",
   "execution_count": 43,
   "metadata": {
    "cellId": "cthp3oaeo4zhcbgma86gb"
   },
   "outputs": [
    {
     "data": {
      "text/plain": [
       "(tensor([[21847, 39272, 33222,  ..., 39273, 39273, 39273],\n",
       "         [25305, 37879, 17060,  ..., 39273, 39273, 39273],\n",
       "         [25378, 21043, 37043,  ..., 39273, 39273, 39273],\n",
       "         ...,\n",
       "         [39210,   316, 22353,  ..., 39273, 39273, 39273],\n",
       "         [ 7526, 33721,   316,  ..., 39273, 39273, 39273],\n",
       "         [ 9172,  6998, 36125,  ..., 39273, 39273, 39273]]),\n",
       " tensor([[0.],\n",
       "         [1.],\n",
       "         [0.],\n",
       "         [0.],\n",
       "         [0.],\n",
       "         [1.],\n",
       "         [0.],\n",
       "         [0.],\n",
       "         [0.],\n",
       "         [0.],\n",
       "         [0.],\n",
       "         [1.],\n",
       "         [0.],\n",
       "         [1.],\n",
       "         [1.],\n",
       "         [1.],\n",
       "         [1.],\n",
       "         [0.],\n",
       "         [0.],\n",
       "         [0.],\n",
       "         [1.],\n",
       "         [1.],\n",
       "         [0.],\n",
       "         [0.],\n",
       "         [1.],\n",
       "         [0.],\n",
       "         [1.],\n",
       "         [0.],\n",
       "         [0.],\n",
       "         [0.],\n",
       "         [1.],\n",
       "         [1.],\n",
       "         [1.],\n",
       "         [1.],\n",
       "         [0.],\n",
       "         [0.],\n",
       "         [1.],\n",
       "         [0.],\n",
       "         [1.],\n",
       "         [1.],\n",
       "         [1.],\n",
       "         [1.],\n",
       "         [0.],\n",
       "         [0.],\n",
       "         [0.],\n",
       "         [1.],\n",
       "         [1.],\n",
       "         [1.],\n",
       "         [1.],\n",
       "         [0.],\n",
       "         [1.],\n",
       "         [1.],\n",
       "         [0.],\n",
       "         [1.],\n",
       "         [1.],\n",
       "         [0.],\n",
       "         [0.],\n",
       "         [0.],\n",
       "         [1.],\n",
       "         [1.],\n",
       "         [0.],\n",
       "         [1.],\n",
       "         [0.],\n",
       "         [0.]]))"
      ]
     },
     "execution_count": 43,
     "metadata": {},
     "output_type": "execute_result"
    }
   ],
   "source": [
    "b"
   ]
  },
  {
   "cell_type": "code",
   "execution_count": 44,
   "metadata": {
    "cellId": "j6kl3v7eyrhhx73iz2giv"
   },
   "outputs": [
    {
     "data": {
      "text/plain": [
       "tensor([[21847, 39272, 33222,  ..., 39273, 39273, 39273],\n",
       "        [25305, 37879, 17060,  ..., 39273, 39273, 39273],\n",
       "        [25378, 21043, 37043,  ..., 39273, 39273, 39273],\n",
       "        ...,\n",
       "        [39210,   316, 22353,  ..., 39273, 39273, 39273],\n",
       "        [ 7526, 33721,   316,  ..., 39273, 39273, 39273],\n",
       "        [ 9172,  6998, 36125,  ..., 39273, 39273, 39273]])"
      ]
     },
     "execution_count": 44,
     "metadata": {},
     "output_type": "execute_result"
    }
   ],
   "source": [
    "b[0]"
   ]
  },
  {
   "cell_type": "markdown",
   "metadata": {},
   "source": [
    "### Соберем сеть"
   ]
  },
  {
   "cell_type": "code",
   "execution_count": 45,
   "metadata": {
    "cellId": "j7zom9926to9bpqfvayl6d"
   },
   "outputs": [],
   "source": [
    "import torch.nn.functional as F\n",
    "\n",
    "\n",
    "class TextCNN(nn.Module):\n",
    "    def __init__(self, vocab_size: int, embedding_dim: int, pad_idx):\n",
    "        super().__init__()\n",
    "\n",
    "        self.embedding = nn.Embedding(vocab_size, embedding_dim, padding_idx = pad_idx) # Воспользуемся слоем эмбединг для создания матрицы словаря\n",
    "\n",
    "        self.convs = nn.ModuleList( # Создадим набор сверток\n",
    "            [\n",
    "                nn.Conv2d(\n",
    "                    in_channels=1,\n",
    "                    out_channels=32, # Будем искать 32 паттерна\n",
    "                    kernel_size=(fs, embedding_dim)) # С ядрами размер_фильтра Х размерность_эмбедингов\n",
    "                for fs in [2, 3, 4, 5, 6]\n",
    "            ]\n",
    "        )\n",
    "\n",
    "        self.fc = nn.Linear(5 * 32, 1) # Линейный слой в качестве головы\n",
    "\n",
    "        self.dropout = nn.Dropout(0.5) # Добавим дропаут для обобщенности в избежания переобучения\n",
    "\n",
    "    def forward(self, x):\n",
    "        x = self.embedding(x) # Получим матрицу эмбедингов\n",
    "        \n",
    "        x = x.unsqueeze(1) # Добавим размерность для последующих операций\n",
    "\n",
    "        x = [F.relu(conv(x)).squeeze(3) for conv in self.convs] # Пропустим получившийся набор эмбедингов через свертки, активацию и уберем добавленную размерность\n",
    "\n",
    "        x = [F.max_pool1d(_, _.shape[2]).squeeze(2) for _ in x] # Макспуллинг перед полносвязыным слоем\n",
    "\n",
    "        x = self.dropout(torch.cat(x, dim = 1)) # Конкатим результаты сверточных слоев\n",
    "\n",
    "        return self.fc(x)"
   ]
  },
  {
   "cell_type": "markdown",
   "metadata": {},
   "source": [
    "## Обучим модель"
   ]
  },
  {
   "cell_type": "code",
   "execution_count": 46,
   "metadata": {
    "cellId": "4rqwcj414lvyly3x7zbnjj"
   },
   "outputs": [],
   "source": [
    "model = TextCNN(vocab_size=len(dataset.vocab.vocabulary) + 1, embedding_dim=25, pad_idx=pad_idx)"
   ]
  },
  {
   "cell_type": "code",
   "execution_count": 47,
   "metadata": {
    "cellId": "vj5n7emmqzh0a5oo9pt0f9f"
   },
   "outputs": [],
   "source": [
    "vectors = dataset.vocab.build_vectors(fasttext)"
   ]
  },
  {
   "cell_type": "code",
   "execution_count": 48,
   "metadata": {
    "cellId": "xvo0ibbv3la6w66lss2qfl"
   },
   "outputs": [
    {
     "data": {
      "text/plain": [
       "(39273, 25)"
      ]
     },
     "execution_count": 48,
     "metadata": {},
     "output_type": "execute_result"
    }
   ],
   "source": [
    "vectors.shape"
   ]
  },
  {
   "cell_type": "code",
   "execution_count": 49,
   "metadata": {
    "cellId": "v75h2qur5qdnh64on3kx3"
   },
   "outputs": [
    {
     "data": {
      "text/plain": [
       "torch.Size([39274, 25])"
      ]
     },
     "execution_count": 49,
     "metadata": {},
     "output_type": "execute_result"
    }
   ],
   "source": [
    "model.embedding.weight.shape"
   ]
  },
  {
   "cell_type": "markdown",
   "metadata": {},
   "source": [
    "### Загрузка предобученных векторов в слой эмбединга"
   ]
  },
  {
   "cell_type": "code",
   "execution_count": 50,
   "metadata": {
    "cellId": "vh4xvu9ucntimxsw7at3v"
   },
   "outputs": [],
   "source": [
    "model.embedding.weight.data[:len(vectors)] = torch.from_numpy(vectors)"
   ]
  },
  {
   "cell_type": "code",
   "execution_count": 51,
   "metadata": {
    "cellId": "t2o3l10z8tclefqybs08e"
   },
   "outputs": [
    {
     "data": {
      "text/plain": [
       "Parameter containing:\n",
       "tensor([[-0.8029,  0.3492, -0.1870,  ..., -0.5928, -0.3013, -0.0089],\n",
       "        [ 0.0000,  0.0000,  0.0000,  ...,  0.0000,  0.0000,  0.0000],\n",
       "        [-1.2194,  0.8999, -0.3627,  ...,  0.4955,  0.2587,  0.0560],\n",
       "        ...,\n",
       "        [-0.5925, -0.5153, -0.5562,  ..., -1.2555, -0.1518, -0.9410],\n",
       "        [ 0.0000,  0.0000,  0.0000,  ...,  0.0000,  0.0000,  0.0000],\n",
       "        [ 0.0000,  0.0000,  0.0000,  ...,  0.0000,  0.0000,  0.0000]],\n",
       "       requires_grad=True)"
      ]
     },
     "execution_count": 51,
     "metadata": {},
     "output_type": "execute_result"
    }
   ],
   "source": [
    "model.embedding.weight"
   ]
  },
  {
   "cell_type": "code",
   "execution_count": 52,
   "metadata": {
    "cellId": "4et7useek5cmd2lwhtx23"
   },
   "outputs": [
    {
     "data": {
      "text/plain": [
       "torch.Size([39274, 25])"
      ]
     },
     "execution_count": 52,
     "metadata": {},
     "output_type": "execute_result"
    }
   ],
   "source": [
    "model.embedding.weight.shape"
   ]
  },
  {
   "cell_type": "markdown",
   "metadata": {},
   "source": [
    "### Определем функции для обучения"
   ]
  },
  {
   "cell_type": "code",
   "execution_count": 69,
   "metadata": {
    "cellId": "gev1mg9v942jvdi9j6jgk"
   },
   "outputs": [],
   "source": [
    "from tqdm import tqdm\n",
    "\n",
    "\n",
    "def binary_accuracy(preds, y):\n",
    "    # Точность бинарной классификации принимает прогноз и фактический таргет\n",
    "    rounded_preds = torch.round(torch.sigmoid(preds)) # Возьмем сигмойду от прогноза и округлим\n",
    "    correct = (rounded_preds == y).float() # Считаем корректные прогнозы\n",
    "    acc = correct.sum() / len(correct) # Считаем долю корректных прогнозов\n",
    "    return acc\n",
    "\n",
    "\n",
    "def train(model) -> float:\n",
    "    model.train() # Переводим модель в режим обучения\n",
    "\n",
    "    train_loss = 0 # Считаем лосс\n",
    "    train_accuracy = 0 # Считаем точность\n",
    "\n",
    "    for x, y in tqdm(train_loader, desc='Train'): # Итерируемся по даталоадеру\n",
    "        x, y = x.to(device), y.to(device) # Перемещаемся на GPU\n",
    "\n",
    "        optimizer.zero_grad() # Обнуляем градиенты\n",
    "\n",
    "        output = model(x) # Считаем выход модели\n",
    "\n",
    "        loss = loss_fn(output, y) # Считаем ошибку\n",
    "\n",
    "        train_loss += loss.item() # Добавляем к ошибке ранее\n",
    "        train_accuracy += binary_accuracy(output, y) # Добавляем рассчитанную точность\n",
    "\n",
    "        loss.backward() # Считаем градиенты\n",
    "\n",
    "        optimizer.step() # Делаем шаг оптимизатора\n",
    "\n",
    "    train_loss /= len(train_loader) # Усредняем ошибку по всем батчам\n",
    "    train_accuracy /= len(train_loader) # Усредняем точность по всем батчам\n",
    "\n",
    "    return train_loss, train_accuracy"
   ]
  },
  {
   "cell_type": "code",
   "execution_count": 54,
   "metadata": {
    "cellId": "zrc6osy47cm2ra4tcoio47"
   },
   "outputs": [],
   "source": [
    "@torch.inference_mode() # Оценка качества проводится в режиме инференса(без подсчета градиентов)\n",
    "def evaluate(model, loader) -> tuple[float, float]:\n",
    "    model.eval() \n",
    "\n",
    "    total_loss = 0\n",
    "    total_accuracy = 0\n",
    "\n",
    "    for x, y in tqdm(loader, desc='Evaluation'):\n",
    "        x, y = x.to(device), y.to(device)\n",
    "\n",
    "        output = model(x)\n",
    "\n",
    "        loss = loss_fn(output, y)\n",
    "\n",
    "        total_loss += loss.item()\n",
    "        total_accuracy += binary_accuracy(output, y)\n",
    "\n",
    "    total_loss /= len(loader)\n",
    "    total_accuracy /= len(loader)\n",
    "\n",
    "    return total_loss, total_accuracy"
   ]
  },
  {
   "cell_type": "markdown",
   "metadata": {},
   "source": [
    "### Визуализация обучения"
   ]
  },
  {
   "cell_type": "code",
   "execution_count": 68,
   "metadata": {
    "cellId": "mp5jzdglrekegburbdfcd9"
   },
   "outputs": [],
   "source": [
    "import matplotlib.pyplot as plt\n",
    "from IPython.display import clear_output\n",
    "\n",
    "\n",
    "def plot_stats(\n",
    "    train_loss: list[float],\n",
    "    valid_loss: list[float],\n",
    "    train_accuracy: list[float],\n",
    "    valid_accuracy: list[float],\n",
    "    title: str\n",
    "):\n",
    "    plt.figure(figsize=(16, 8))\n",
    "\n",
    "    plt.title(title + ' loss')\n",
    "\n",
    "    plt.plot(train_loss, label='Train loss')\n",
    "    plt.plot(valid_loss, label='Valid loss')\n",
    "    plt.legend()\n",
    "    plt.grid()\n",
    "\n",
    "    plt.show()\n",
    "\n",
    "    plt.figure(figsize=(16, 8))\n",
    "\n",
    "    plt.title(title + ' accuracy')\n",
    "    \n",
    "    plt.plot(train_accuracy, label='Train accuracy')\n",
    "    plt.plot(valid_accuracy, label='Valid accuracy')\n",
    "    plt.legend()\n",
    "    plt.grid()\n",
    "\n",
    "    plt.show()"
   ]
  },
  {
   "cell_type": "code",
   "execution_count": 56,
   "metadata": {
    "cellId": "b08v3hrqacbpbw1g4fe03"
   },
   "outputs": [],
   "source": [
    "def whole_train_valid_cycle(model, num_epochs, title):\n",
    "    train_loss_history, valid_loss_history = [], []\n",
    "    train_accuracy_history, valid_accuracy_history = [], []\n",
    "\n",
    "    for epoch in range(num_epochs):\n",
    "        train_loss, train_accuracy = train(model)\n",
    "        valid_loss, valid_accuracy = evaluate(model, test_loader)\n",
    "\n",
    "        train_loss_history.append(train_loss)\n",
    "        valid_loss_history.append(valid_loss)\n",
    "\n",
    "        train_accuracy_history.append(train_accuracy)\n",
    "        valid_accuracy_history.append(valid_accuracy)\n",
    "\n",
    "        clear_output()\n",
    "\n",
    "        plot_stats(\n",
    "            train_loss_history, valid_loss_history,\n",
    "            train_accuracy_history, valid_accuracy_history,\n",
    "            title\n",
    "        )"
   ]
  },
  {
   "cell_type": "code",
   "execution_count": 57,
   "metadata": {
    "cellId": "9rbsgt4kll47oktx0kbmr"
   },
   "outputs": [],
   "source": [
    "import torch.nn as nn\n",
    "from torch.optim import Adam"
   ]
  },
  {
   "cell_type": "code",
   "execution_count": 60,
   "metadata": {
    "cellId": "ekqhgxzgrgrf4jerz802r"
   },
   "outputs": [
    {
     "name": "stdout",
     "output_type": "stream",
     "text": [
      "cpu\n"
     ]
    }
   ],
   "source": [
    "device = torch.device('cuda:0' if torch.cuda.is_available() else 'cpu')\n",
    "\n",
    "print(device)\n",
    "#print(torch.cuda.get_device_name())\n",
    "\n",
    "loss_fn = nn.BCEWithLogitsLoss()"
   ]
  },
  {
   "cell_type": "code",
   "execution_count": 32,
   "metadata": {
    "cellId": "8lko5u1gjrq6ttsicq54wh",
    "scrolled": true
   },
   "outputs": [
    {
     "data": {
      "image/png": "[encoded data removed]",
      "text/plain": [
       "<Figure size 1152x576 with 1 Axes>"
      ]
     },
     "metadata": {
      "needs_background": "light"
     },
     "output_type": "display_data"
    },
    {
     "data": {
      "image/png": "[encoded data removed]",
      "text/plain": [
       "<Figure size 1152x576 with 1 Axes>"
      ]
     },
     "metadata": {
      "needs_background": "light"
     },
     "output_type": "display_data"
    }
   ],
   "source": [
    "model = model.to(device)\n",
    "\n",
    "optimizer = Adam(model.parameters(), lr=1e-3)\n",
    "\n",
    "whole_train_valid_cycle(model, 10, 'Text CNN IMDB')"
   ]
  },
  {
   "cell_type": "markdown",
   "metadata": {},
   "source": [
    "Модель достаточно сильно переобучается начиная с 7ой эпохи. Но тем не менее качество достаточно высокое больше 85% на валидационной выборке. Во избежании переобучения можно добавить дропаутов и батч нормализацию."
   ]
  }
 ],
 "metadata": {
  "kernelspec": {
   "display_name": "Python 3 (ipykernel)",
   "language": "python",
   "name": "python3"
  },
  "language_info": {
   "codemirror_mode": {
    "name": "ipython",
    "version": 3
   },
   "file_extension": ".py",
   "mimetype": "text/x-python",
   "name": "python",
   "nbconvert_exporter": "python",
   "pygments_lexer": "ipython3",
   "version": "3.9.18"
  },
  "notebookId": "be6e82ed-bd2e-40d0-86cf-23d5c36c0468",
  "notebookPath": "8/Lecture_8_Intro_to_DL.ipynb"
 },
 "nbformat": 4,
 "nbformat_minor": 4
}
